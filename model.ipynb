{
  "nbformat": 4,
  "nbformat_minor": 0,
  "metadata": {
    "colab": {
      "provenance": []
    },
    "kernelspec": {
      "name": "python3",
      "display_name": "Python 3"
    },
    "language_info": {
      "name": "python"
    }
  },
  "cells": [
    {
      "cell_type": "code",
      "execution_count": null,
      "metadata": {
        "id": "GT3FuJL7b7vq"
      },
      "outputs": [],
      "source": [
        "from tensorflow.keras.models import model_from_json\n",
        "from tensorflow.python.keras.backend import set_session\n",
        "import numpy as np\n",
        "\n",
        "import tensorflow as tf\n",
        "\n",
        "config = tf.compat.v1.ConfigProto()\n",
        "config.gpu_options.per_process_gpu_memory_fraction = 0.15\n",
        "session = tf.compat.v1.Session(config=config)\n",
        "set_session(session)\n",
        "\n",
        "\n",
        "class ERModel(object):\n",
        "\n",
        "    EMOTIONS_LIST = [\"Angry\", \"Disgust\",\n",
        "                     \"Fear\", \"Happy\",\n",
        "                     \"Neutral\", \"Sad\",\n",
        "                     \"Surprise\"]\n",
        "\n",
        "    def __init__(self, model_json_file, model_weights_file):\n",
        "\n",
        "        with open(model_json_file, \"r\") as json_file:\n",
        "            loaded_model_json = json_file.read()\n",
        "            self.loaded_model = model_from_json(loaded_model_json)\n",
        "\n",
        "        self.loaded_model.load_weights(model_weights_file)\n",
        "\n",
        "    def predict_emotion(self, img):\n",
        "        global session\n",
        "        set_session(session)\n",
        "        self.preds = self.loaded_model.predict(img)\n",
        "        return ERModel.EMOTIONS_LIST[np.argmax(self.preds)]\n"
      ]
    }
  ]
}